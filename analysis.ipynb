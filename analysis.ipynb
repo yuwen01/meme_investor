{
 "cells": [
  {
   "cell_type": "code",
   "execution_count": 14,
   "metadata": {},
   "outputs": [],
   "source": [
    "import praw\n",
    "import datetime as dt\n",
    "import time\n",
    "import numpy as np\n",
    "import pandas as pd\n",
    "import math\n",
    "import matplotlib.pyplot as plt"
   ]
  },
  {
   "cell_type": "code",
   "execution_count": 72,
   "metadata": {},
   "outputs": [],
   "source": [
    "d = pd.read_json('2018-08-13 15:53:08.197863_posts.json')\n",
    "crit = (d['matureScore']> -.5)& (d['midScore'] != -0.5) & (d['earlyScore'] > -100) & (d['earlyScore'] < 10) #& (d['matureScore'] < 800)\n",
    "fullData = d.loc[crit]\n",
    "#print(fullData)\n",
    "def roi(v0, vf): #sourced from https://memes.market/resources/paper.pdf\n",
    "    gain = vf - v0\n",
    "    L = 1.2+1.9/(v0/10 + 1)\n",
    "    stp = 0.04/(v0/100 + 1)\n",
    "    mid = 0.018*v0\n",
    "    return L / (1 + math.exp(-stp*(gain-mid)))"
   ]
  },
  {
   "cell_type": "code",
   "execution_count": 73,
   "metadata": {},
   "outputs": [
    {
     "name": "stdout",
     "output_type": "stream",
     "text": [
      "(100,)\n"
     ]
    },
    {
     "data": {
      "text/plain": [
       "[<matplotlib.lines.Line2D at 0x7fde4fb0f908>]"
      ]
     },
     "execution_count": 73,
     "metadata": {},
     "output_type": "execute_result"
    },
    {
     "data": {
      "image/png": "[encoded data removed]",
      "text/plain": [
       "<Figure size 432x288 with 1 Axes>"
      ]
     },
     "metadata": {},
     "output_type": "display_data"
    }
   ],
   "source": [
    "\n",
    "e = fullData['earlyScore']\n",
    "mid = fullData['midScore']\n",
    "mat = fullData['matureScore']\n",
    "print(mat.shape)\n",
    "plt.ylim((1, 2.1))\n",
    "#plt.plot(e, mat, 'bo')\n",
    "vecRoi = np.vectorize(roi)\n",
    "\n",
    "plt.plot(e,vecRoi(e.values, mat.values), 'ro')\n",
    "\n",
    "\n",
    "\n",
    "#d[math.isnan(d.earlyScore.tolist())]"
   ]
  },
  {
   "cell_type": "code",
   "execution_count": null,
   "metadata": {},
   "outputs": [],
   "source": []
  }
 ],
 "metadata": {
  "kernelspec": {
   "display_name": "Python 3",
   "language": "python",
   "name": "python3"
  },
  "language_info": {
   "codemirror_mode": {
    "name": "ipython",
    "version": 3
   },
   "file_extension": ".py",
   "mimetype": "text/x-python",
   "name": "python",
   "nbconvert_exporter": "python",
   "pygments_lexer": "ipython3",
   "version": "3.6.5"
  }
 },
 "nbformat": 4,
 "nbformat_minor": 2
}
