{
 "cells": [
  {
   "cell_type": "code",
   "execution_count": 61,
   "metadata": {},
   "outputs": [
    {
     "name": "stdout",
     "output_type": "stream",
     "text": [
      "2018-08-10 00:49:27.969782\n"
     ]
    }
   ],
   "source": [
    "import praw\n",
    "import datetime as dt\n",
    "import time\n",
    "import numpy as np\n",
    "import pandas as pd\n",
    "\n",
    "NUMPOSTS = 25\n",
    "reddit = praw.Reddit('investor')\n",
    "#early: 20-30 minutes old\n",
    "#mid: 60-75 minutes old\n",
    "#mature: >5 hrs old\n",
    "#numComments: early comments number\n",
    "columns = ['title', 'earlyScore', 'midScore', 'numComments','matureScore']\n",
    "df = pd.DataFrame(columns=columns)\n",
    "\n",
    "data = [[0,0,0,0,0]]\n",
    "\n",
    "#df = pd.DataFrame()\n",
    "subreddit = reddit.subreddit(\"memeeconomy\")\n",
    "ct = 0\n",
    "def get_date(sub):\n",
    "    time = sub.created\n",
    "    return dt.datetime.fromtimestamp(time)\n",
    "\n",
    "print(str(dt.datetime.now()))"
   ]
  },
  {
   "cell_type": "code",
   "execution_count": 47,
   "metadata": {},
   "outputs": [
    {
     "data": {
      "text/html": [
       "<div>\n",
       "<style scoped>\n",
       "    .dataframe tbody tr th:only-of-type {\n",
       "        vertical-align: middle;\n",
       "    }\n",
       "\n",
       "    .dataframe tbody tr th {\n",
       "        vertical-align: top;\n",
       "    }\n",
       "\n",
       "    .dataframe thead th {\n",
       "        text-align: right;\n",
       "    }\n",
       "</style>\n",
       "<table border=\"1\" class=\"dataframe\">\n",
       "  <thead>\n",
       "    <tr style=\"text-align: right;\">\n",
       "      <th></th>\n",
       "      <th>id</th>\n",
       "      <th>earlyUpvotes</th>\n",
       "      <th>midUpvotes</th>\n",
       "      <th>numComments</th>\n",
       "      <th>upvotesMature</th>\n",
       "    </tr>\n",
       "  </thead>\n",
       "  <tbody>\n",
       "    <tr>\n",
       "      <th>0</th>\n",
       "      <td>963ubk</td>\n",
       "      <td>0</td>\n",
       "      <td>NaN</td>\n",
       "      <td>NaN</td>\n",
       "      <td>NaN</td>\n",
       "    </tr>\n",
       "  </tbody>\n",
       "</table>\n",
       "</div>"
      ],
      "text/plain": [
       "       id earlyUpvotes midUpvotes numComments upvotesMature\n",
       "0  963ubk            0        NaN         NaN           NaN"
      ]
     },
     "execution_count": 47,
     "metadata": {},
     "output_type": "execute_result"
    }
   ],
   "source": [
    "s = subreddit.new(limit=5).next()\n",
    "df.append({'id': s.id, 'earlyScore': s.score}, ignore_index=True)"
   ]
  },
  {
   "cell_type": "code",
   "execution_count": 64,
   "metadata": {
    "scrolled": false
   },
   "outputs": [
    {
     "ename": "SyntaxError",
     "evalue": "can't assign to function call (<ipython-input-64-0ae0d734a8e8>, line 17)",
     "output_type": "error",
     "traceback": [
      "\u001b[0;36m  File \u001b[0;32m\"<ipython-input-64-0ae0d734a8e8>\"\u001b[0;36m, line \u001b[0;32m17\u001b[0m\n\u001b[0;31m    df.at(submission.id, 'midScore') = submission.score\u001b[0m\n\u001b[0m    ^\u001b[0m\n\u001b[0;31mSyntaxError\u001b[0m\u001b[0;31m:\u001b[0m can't assign to function call\n"
     ]
    }
   ],
   "source": [
    "\n",
    "\n",
    "for submission in subreddit.new(limit=100):\n",
    "    createdTime = submission.created - 8 * 3600 #to account for time difference\n",
    "    ageMinutes = (-createdTime + time.mktime(dt.datetime.now().timetuple()))/60\n",
    "\n",
    "    #print('dateTime: ' + str(get_date(submission)) + '\\n diff (mins): ' + str(ageMinutes) + '\\n title: ' + str(submission.title))\n",
    "    #print('score: ' + str(submission.score)) \n",
    "\n",
    "    if (ageMinutes < 30) & (ageMinutes > 20):\n",
    "        #print('right range')\n",
    "        df.loc[submission.id] = [submission.title, submission.score,0,0,0]\n",
    "       # np.append(data, [submission.id, submission.score, 0, 0, 0])\n",
    "        print(df)\n",
    "        \n",
    "    if (ageMinutes < 75) & (ageMinutes > 60):\n",
    "        df.at[submission.id, 'midScore'] = submission.score\n",
    "        \n",
    "    if (ageMinutes > 5 * 60 ) & (ageMinutes < 5*60 + 3):\n",
    "        df.at[submission.id, 'matureScore'] = submission.score\n",
    "    \n",
    "    \n",
    "    \n",
    "\n",
    "    #print('--------------------------')"
   ]
  },
  {
   "cell_type": "code",
   "execution_count": 63,
   "metadata": {},
   "outputs": [
    {
     "data": {
      "text/html": [
       "<div>\n",
       "<style scoped>\n",
       "    .dataframe tbody tr th:only-of-type {\n",
       "        vertical-align: middle;\n",
       "    }\n",
       "\n",
       "    .dataframe tbody tr th {\n",
       "        vertical-align: top;\n",
       "    }\n",
       "\n",
       "    .dataframe thead th {\n",
       "        text-align: right;\n",
       "    }\n",
       "</style>\n",
       "<table border=\"1\" class=\"dataframe\">\n",
       "  <thead>\n",
       "    <tr style=\"text-align: right;\">\n",
       "      <th></th>\n",
       "      <th>title</th>\n",
       "      <th>earlyUpvotes</th>\n",
       "      <th>midUpvotes</th>\n",
       "      <th>numComments</th>\n",
       "      <th>upvotesMature</th>\n",
       "    </tr>\n",
       "  </thead>\n",
       "  <tbody>\n",
       "    <tr>\n",
       "      <th>963s28</th>\n",
       "      <td>It's making a comeback - INVEST!</td>\n",
       "      <td>0</td>\n",
       "      <td>0</td>\n",
       "      <td>0</td>\n",
       "      <td>0</td>\n",
       "    </tr>\n",
       "  </tbody>\n",
       "</table>\n",
       "</div>"
      ],
      "text/plain": [
       "                                   title earlyUpvotes midUpvotes numComments  \\\n",
       "963s28  It's making a comeback - INVEST!            0          0           0   \n",
       "\n",
       "       upvotesMature  \n",
       "963s28             0  "
      ]
     },
     "execution_count": 63,
     "metadata": {},
     "output_type": "execute_result"
    }
   ],
   "source": [
    "df\n"
   ]
  },
  {
   "cell_type": "code",
   "execution_count": null,
   "metadata": {},
   "outputs": [],
   "source": []
  },
  {
   "cell_type": "code",
   "execution_count": null,
   "metadata": {},
   "outputs": [],
   "source": []
  }
 ],
 "metadata": {
  "kernelspec": {
   "display_name": "Python 3",
   "language": "python",
   "name": "python3"
  },
  "language_info": {
   "codemirror_mode": {
    "name": "ipython",
    "version": 3
   },
   "file_extension": ".py",
   "mimetype": "text/x-python",
   "name": "python",
   "nbconvert_exporter": "python",
   "pygments_lexer": "ipython3",
   "version": "3.6.5"
  }
 },
 "nbformat": 4,
 "nbformat_minor": 2
}
