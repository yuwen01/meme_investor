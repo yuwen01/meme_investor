{
 "cells": [
  {
   "cell_type": "code",
   "execution_count": 19,
   "metadata": {},
   "outputs": [
    {
     "name": "stdout",
     "output_type": "stream",
     "text": [
      "2018-08-25 21:32:49.742883\n"
     ]
    }
   ],
   "source": [
    "import praw\n",
    "import datetime as dt\n",
    "import time\n",
    "import numpy as np\n",
    "import pandas as pd\n",
    "import math\n",
    "import sys\n",
    "\n",
    "NUMPOSTS = 25\n",
    "reddit = praw.Reddit('investor')\n",
    "#early: 20-30 minutes old\n",
    "#mid: 60-75 minutes old\n",
    "#mature: >5 hrs old\n",
    "#numComments: early comments number\n",
    "columns = ['title', 'earlyScore', 'midScore', 'numComments','matureScore']\n",
    "df = pd.DataFrame(columns=columns)\n",
    "\n",
    "subreddit = reddit.subreddit(\"memeeconomy\")\n",
    "ct = 0\n",
    "def get_date(sub):\n",
    "    time = sub.created\n",
    "    return dt.datetime.fromtimestamp(time)\n",
    "\n",
    "print(str(dt.datetime.now()))"
   ]
  },
  {
   "cell_type": "markdown",
   "metadata": {},
   "source": [
    "This thing down here collects data from r/memeeconomy. It looks for 20 minute old posts, hour old posts, and 4 hour old posts, and sees how many upvotes they have. I'm pretty sure there's a really strong correlation between upvotes at 20 minutes and final upvotes. \n",
    "\n",
    "It turns out that I was right, and that if a post has more than ~30 upvotes at 20 minutes, it is basically guaranteed to have ~140% return. \n",
    "\n",
    "But, looking at the data I collected, it seems like 0 upvote posts might be more promising. The formula "
   ]
  },
  {
   "cell_type": "code",
   "execution_count": null,
   "metadata": {
    "scrolled": false
   },
   "outputs": [],
   "source": [
    "while dt.datetime.now().hour != 22:\n",
    "    for submission in subreddit.new(limit=100):\n",
    "        createdTime = submission.created - 8 * 3600 #to account for time difference\n",
    "        ageMinutes = (-createdTime + time.mktime(dt.datetime.now().timetuple()))/60\n",
    "\n",
    "        #print('dateTime: ' + str(get_date(submission)) + '\\n diff (mins): ' + str(ageMinutes) + '\\n title: ' + str(submission.title))\n",
    "        #print('score: ' + str(submission.score)) \n",
    "\n",
    "        if (ageMinutes < 30) & (ageMinutes > 20):\n",
    "            #print('right range')\n",
    "            t = submission.title\n",
    "            t5 = t[:5]\n",
    "            df.loc[submission.id] = [t5, submission.score,-0.5,-0.5,-0.5]\n",
    "           # np.append(data, [submission.id, submission.score, 0, 0, 0])\n",
    "            #print(df)\n",
    "\n",
    "        if (ageMinutes < 75) & (ageMinutes > 60):\n",
    "            df.at[submission.id, 'midScore'] = submission.score\n",
    "\n",
    "        if (ageMinutes > 5 * 60 ) & (ageMinutes < 5*60 + 3):\n",
    "            df.at[submission.id, 'matureScore'] = submission.score\n",
    "\n",
    "j = df.to_json(orient='records')\n",
    "with open(str(dt.datetime.now()) + '_posts.json', 'w') as f:\n",
    "    f.write(j)\n"
   ]
  },
  {
   "cell_type": "code",
   "execution_count": 34,
   "metadata": {},
   "outputs": [],
   "source": [
    "bal = 1466"
   ]
  },
  {
   "cell_type": "code",
   "execution_count": 33,
   "metadata": {},
   "outputs": [
    {
     "name": "stdout",
     "output_type": "stream",
     "text": [
      "MemeInvestor_bot\n",
      "gotem INVEST NOW! Great template with high potential for variability.\n",
      "gotem INVEST NOW! Great template with high potential for variability.\n",
      "MemeInvestor_bot\n",
      "gotem Very versatile. Invest now!\n",
      "gotem Very versatile. Invest now!\n",
      "MemeInvestor_bot\n",
      "gotem Keanu always returns high yields. After appraisal.\n",
      "gotem Keanu always returns high yields. After appraisal.\n",
      "MemeInvestor_bot\n",
      "gotem Are behemoth memes in???\n",
      "gotem Are behemoth memes in???\n",
      "MemeInvestor_bot\n",
      "gotem Any potential for a new format?\n"
     ]
    },
    {
     "ename": "SystemExit",
     "evalue": "0",
     "output_type": "error",
     "traceback": [
      "An exception has occurred, use %tb to see the full traceback.\n",
      "\u001b[0;31mSystemExit\u001b[0m\u001b[0;31m:\u001b[0m 0\n"
     ]
    },
    {
     "name": "stderr",
     "output_type": "stream",
     "text": [
      "/home/yuwen/anaconda3/lib/python3.6/site-packages/IPython/core/interactiveshell.py:2971: UserWarning: To exit: use 'exit', 'quit', or Ctrl-D.\n",
      "  warn(\"To exit: use 'exit', 'quit', or Ctrl-D.\", stacklevel=1)\n"
     ]
    }
   ],
   "source": [
    "#main\n",
    "investedPosts =['']\n",
    "ct = 0\n",
    "while True:\n",
    "    for submission in subreddit.new(limit=20):\n",
    "        createdTime = submission.created - 8 * 3600 #to account for time difference\n",
    "        ageMinutes = (-createdTime + time.mktime(dt.datetime.now().timetuple()))/60\n",
    "        \n",
    "        #print('dateTime: ' + str(get_date(submission)) + '\\n diff (mins): ' + str(ageMinutes) + '\\n title: ' + str(submission.title))\n",
    "        #print('score: ' + str(submission.score)) \n",
    "        #print(ageMinutes)\n",
    "        if (ageMinutes < 25) & (ageMinutes > 20) & (submission.score > 30) & (submission.id not in investedPosts):\n",
    "            #print('right range')\n",
    "            for topLevelComment in submission.comments:\n",
    "                print(topLevelComment.author)\n",
    "                if topLevelComment.author == 'MemeInvestor_bot':\n",
    "                    print('gotem ' + submission.title)\n",
    "                    topLevelComment.reply('!invest 100')\n",
    "                    break\n",
    "                    \n",
    "            investedPosts.append(submission.id)\n",
    "        "
   ]
  },
  {
   "cell_type": "code",
   "execution_count": null,
   "metadata": {},
   "outputs": [],
   "source": [
    "df"
   ]
  },
  {
   "cell_type": "code",
   "execution_count": null,
   "metadata": {},
   "outputs": [],
   "source": []
  },
  {
   "cell_type": "code",
   "execution_count": null,
   "metadata": {},
   "outputs": [],
   "source": []
  }
 ],
 "metadata": {
  "kernelspec": {
   "display_name": "Python 3",
   "language": "python",
   "name": "python3"
  },
  "language_info": {
   "codemirror_mode": {
    "name": "ipython",
    "version": 3
   },
   "file_extension": ".py",
   "mimetype": "text/x-python",
   "name": "python",
   "nbconvert_exporter": "python",
   "pygments_lexer": "ipython3",
   "version": "3.6.5"
  }
 },
 "nbformat": 4,
 "nbformat_minor": 2
}
